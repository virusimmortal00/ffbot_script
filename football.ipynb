{
 "cells": [
  {
   "cell_type": "code",
   "execution_count": 1,
   "metadata": {},
   "outputs": [],
   "source": [
    "import ffbot\n",
    "LEAGUE = 690914\n",
    "TEAM = 9\n",
    "POSITIONS = \"QB, WR, WR, WR, RB, RB, TE, W/R/T, K, DEF, BN, BN, BN, BN, IR\""
   ]
  },
  {
   "cell_type": "code",
   "execution_count": 6,
   "metadata": {},
   "outputs": [
    {
     "name": "stderr",
     "output_type": "stream",
     "text": [
      "\u001b[32m2024-10-17 12:58:08.780\u001b[0m | \u001b[1mINFO    \u001b[0m | \u001b[36mffbot.scraper\u001b[0m:\u001b[36mscrape\u001b[0m:\u001b[36m55\u001b[0m - \u001b[1mScraping all QB...\u001b[0m\n",
      "\u001b[32m2024-10-17 12:58:12.516\u001b[0m | \u001b[1mINFO    \u001b[0m | \u001b[36mffbot.scraper\u001b[0m:\u001b[36mscrape\u001b[0m:\u001b[36m55\u001b[0m - \u001b[1mScraping all WR...\u001b[0m\n",
      "\u001b[32m2024-10-17 12:58:21.931\u001b[0m | \u001b[1mINFO    \u001b[0m | \u001b[36mffbot.scraper\u001b[0m:\u001b[36mscrape\u001b[0m:\u001b[36m55\u001b[0m - \u001b[1mScraping all RB...\u001b[0m\n",
      "\u001b[32m2024-10-17 12:58:27.527\u001b[0m | \u001b[1mINFO    \u001b[0m | \u001b[36mffbot.scraper\u001b[0m:\u001b[36mscrape\u001b[0m:\u001b[36m55\u001b[0m - \u001b[1mScraping all TE...\u001b[0m\n",
      "\u001b[32m2024-10-17 12:58:32.741\u001b[0m | \u001b[1mINFO    \u001b[0m | \u001b[36mffbot.scraper\u001b[0m:\u001b[36mscrape\u001b[0m:\u001b[36m55\u001b[0m - \u001b[1mScraping all K...\u001b[0m\n",
      "\u001b[32m2024-10-17 12:58:34.652\u001b[0m | \u001b[1mINFO    \u001b[0m | \u001b[36mffbot.scraper\u001b[0m:\u001b[36mscrape\u001b[0m:\u001b[36m55\u001b[0m - \u001b[1mScraping all DEF...\u001b[0m\n",
      "Scraping weekly forecasts: 100%|██████████| 1138/1138 [04:47<00:00,  3.96it/s] \n",
      "\u001b[32m2024-10-17 13:03:24.143\u001b[0m | \u001b[1mINFO    \u001b[0m | \u001b[36mffbot.scraper\u001b[0m:\u001b[36mscrape\u001b[0m:\u001b[36m184\u001b[0m - \u001b[1mTotal runtime: 0:05:15.363346\u001b[0m\n"
     ]
    }
   ],
   "source": [
    "week = ffbot.current_week()\n",
    "df = ffbot.scrape(LEAGUE)"
   ]
  },
  {
   "cell_type": "code",
   "execution_count": 5,
   "metadata": {},
   "outputs": [
    {
     "name": "stderr",
     "output_type": "stream",
     "text": [
      "\u001b[32m2024-10-17 12:57:33.268\u001b[0m | \u001b[1mINFO    \u001b[0m | \u001b[36mffbot.optimizer\u001b[0m:\u001b[36moptimize\u001b[0m:\u001b[36m120\u001b[0m - \u001b[1mOptimizer pre-processed data\u001b[0m\n",
      "\u001b[32m2024-10-17 12:57:46.312\u001b[0m | \u001b[1mINFO    \u001b[0m | \u001b[36mffbot.optimizer\u001b[0m:\u001b[36moptimize\u001b[0m:\u001b[36m174\u001b[0m - \u001b[1mOptimizer starting...\u001b[0m\n",
      "/Users/bobby.sayers/Documents/repos/ffbot_script/ffbot_script_venv/lib/python3.12/site-packages/ffbot/optimizer.py:338: FutureWarning: Setting an item of incompatible dtype is deprecated and will raise an error in a future version of pandas. Value '' has dtype incompatible with float64, please explicitly cast to a compatible dtype first.\n",
      "  df_opt.fillna(\"\", inplace=True)\n",
      "\u001b[32m2024-10-17 12:57:59.656\u001b[0m | \u001b[1mINFO    \u001b[0m | \u001b[36mffbot.optimizer\u001b[0m:\u001b[36moptimize\u001b[0m:\u001b[36m339\u001b[0m - \u001b[1mOptimizer finished\u001b[0m\n"
     ]
    },
    {
     "name": "stdout",
     "output_type": "stream",
     "text": [
      "                   Add                  Drop Total points Discounted points  \\\n",
      "0                            Jason Myers (K)                                  \n",
      "1     <current roster>                            1284.33            404.54   \n",
      "2    Kansas City (DEF)         Houston (DEF)        14.13              3.54   \n",
      "3     Rome Odunze (WR)       Cleveland (DEF)        11.06              2.21   \n",
      "4   Jacksonville (DEF)   Pat Freiermuth (TE)        -4.66              0.84   \n",
      "5   Cameron Dicker (K)      Jake Elliott (K)         0.71              0.38   \n",
      "6  Xavier Legette (WR)  DeAndre Hopkins (WR)        -0.23              0.03   \n",
      "\n",
      "      VOR  \n",
      "0          \n",
      "1  353.51  \n",
      "2   21.22  \n",
      "3   15.65  \n",
      "4  -20.75  \n",
      "5    0.71  \n",
      "6   -8.82  \n"
     ]
    }
   ],
   "source": [
    "df_opt = ffbot.optimize(df, week, TEAM, POSITIONS)\n",
    "print(df_opt)"
   ]
  }
 ],
 "metadata": {
  "kernelspec": {
   "display_name": "ffbot_script_venv",
   "language": "python",
   "name": "python3"
  },
  "language_info": {
   "codemirror_mode": {
    "name": "ipython",
    "version": 3
   },
   "file_extension": ".py",
   "mimetype": "text/x-python",
   "name": "python",
   "nbconvert_exporter": "python",
   "pygments_lexer": "ipython3",
   "version": "3.12.2"
  }
 },
 "nbformat": 4,
 "nbformat_minor": 2
}
