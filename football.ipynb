{
 "cells": [
  {
   "cell_type": "code",
   "execution_count": 1,
   "metadata": {},
   "outputs": [],
   "source": [
    "import ffbot\n",
    "LEAGUE = 690914\n",
    "TEAM = 9\n",
    "POSITIONS = \"QB, WR, WR, WR, RB, RB, TE, W/R/T, K, DEF, BN, BN, BN, BN, IR\""
   ]
  },
  {
   "cell_type": "code",
   "execution_count": 2,
   "metadata": {},
   "outputs": [
    {
     "name": "stderr",
     "output_type": "stream",
     "text": [
      "\u001b[32m2024-10-17 11:14:48.505\u001b[0m | \u001b[1mINFO    \u001b[0m | \u001b[36mffbot.scraper\u001b[0m:\u001b[36mscrape\u001b[0m:\u001b[36m55\u001b[0m - \u001b[1mScraping all QB...\u001b[0m\n",
      "\u001b[32m2024-10-17 11:14:53.189\u001b[0m | \u001b[1mINFO    \u001b[0m | \u001b[36mffbot.scraper\u001b[0m:\u001b[36mscrape\u001b[0m:\u001b[36m55\u001b[0m - \u001b[1mScraping all WR...\u001b[0m\n",
      "\u001b[32m2024-10-17 11:15:03.644\u001b[0m | \u001b[1mINFO    \u001b[0m | \u001b[36mffbot.scraper\u001b[0m:\u001b[36mscrape\u001b[0m:\u001b[36m55\u001b[0m - \u001b[1mScraping all RB...\u001b[0m\n",
      "\u001b[32m2024-10-17 11:15:09.055\u001b[0m | \u001b[1mINFO    \u001b[0m | \u001b[36mffbot.scraper\u001b[0m:\u001b[36mscrape\u001b[0m:\u001b[36m55\u001b[0m - \u001b[1mScraping all TE...\u001b[0m\n",
      "\u001b[32m2024-10-17 11:15:14.302\u001b[0m | \u001b[1mINFO    \u001b[0m | \u001b[36mffbot.scraper\u001b[0m:\u001b[36mscrape\u001b[0m:\u001b[36m55\u001b[0m - \u001b[1mScraping all K...\u001b[0m\n",
      "\u001b[32m2024-10-17 11:15:16.263\u001b[0m | \u001b[1mINFO    \u001b[0m | \u001b[36mffbot.scraper\u001b[0m:\u001b[36mscrape\u001b[0m:\u001b[36m55\u001b[0m - \u001b[1mScraping all DEF...\u001b[0m\n",
      "Scraping weekly forecasts:   1%|▏         | 17/1138 [00:03<03:30,  5.34it/s]"
     ]
    }
   ],
   "source": [
    "week = ffbot.current_week()\n",
    "df = ffbot.scrape(LEAGUE)"
   ]
  },
  {
   "cell_type": "code",
   "execution_count": null,
   "metadata": {},
   "outputs": [],
   "source": [
    "df_opt = ffbot.optimize(df, week, TEAM, POSITIONS)\n",
    "print(df_opt)"
   ]
  }
 ],
 "metadata": {
  "kernelspec": {
   "display_name": "ffbot_script_venv",
   "language": "python",
   "name": "python3"
  },
  "language_info": {
   "codemirror_mode": {
    "name": "ipython",
    "version": 3
   },
   "file_extension": ".py",
   "mimetype": "text/x-python",
   "name": "python",
   "nbconvert_exporter": "python",
   "pygments_lexer": "ipython3",
   "version": "3.12.2"
  }
 },
 "nbformat": 4,
 "nbformat_minor": 2
}
